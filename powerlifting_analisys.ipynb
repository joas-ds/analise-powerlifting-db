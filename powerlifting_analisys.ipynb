{
 "cells": [
  {
   "cell_type": "markdown",
   "id": "77ac7bcc",
   "metadata": {},
   "source": [
    "# Análise de base de dados de PowerLifting"
   ]
  },
  {
   "cell_type": "code",
   "execution_count": null,
   "id": "5334c347-a795-4fa4-ad63-b9019f456248",
   "metadata": {},
   "outputs": [],
   "source": [
    "import pandas as pd\n",
    "\n",
    "df = pd.read_csv(\"openpowerlifting.csv\", low_memory=False)\n",
    "df.head()"
   ]
  },
  {
   "cell_type": "code",
   "execution_count": null,
   "id": "9d574bcd",
   "metadata": {},
   "outputs": [],
   "source": [
    "# Vendo as colunas do df\n",
    "df_cols = df.columns\n",
    "df_cols"
   ]
  },
  {
   "cell_type": "code",
   "execution_count": null,
   "id": "4a23145c-1413-4ad3-b39d-344ff9254290",
   "metadata": {},
   "outputs": [],
   "source": [
    "# Informações gerais sobre colunas, tipos e valores nulos\n",
    "print(df.info())"
   ]
  },
  {
   "cell_type": "code",
   "execution_count": null,
   "id": "09528a7f-2ce5-4c35-86f7-377b9f64b0df",
   "metadata": {},
   "outputs": [],
   "source": [
    "# Estatísticas descritivas das colunas numéricas\n",
    "print(df.describe())"
   ]
  },
  {
   "cell_type": "markdown",
   "id": "af4a97f5",
   "metadata": {},
   "source": [
    "## Visualização"
   ]
  },
  {
   "cell_type": "code",
   "execution_count": null,
   "id": "43891bca",
   "metadata": {},
   "outputs": [],
   "source": [
    "import pandas as pd\n",
    "import numpy as np\n",
    "import matplotlib.pyplot as plt\n",
    "import seaborn as sns\n",
    "import plotly.express as px"
   ]
  },
  {
   "cell_type": "code",
   "execution_count": null,
   "id": "f92ef03a",
   "metadata": {},
   "outputs": [],
   "source": [
    "df.head()"
   ]
  },
  {
   "cell_type": "code",
   "execution_count": null,
   "id": "794bf35f",
   "metadata": {},
   "outputs": [],
   "source": [
    "# Histograma com Plotly\n",
    "\n",
    "fig = px.histogram(data_frame=df, x='Age', nbins=20, title='Distribuição da Frequência de Idade', width=1000)\n",
    "fig.update_layout(xaxis_title='Idade', yaxis_title='Quantidade de Atletas')\n",
    "fig.update_xaxes(tick0=0, dtick=5)\n",
    "fig.update_traces(marker_line_color='black',marker_line_width=2)\n",
    "fig.show()"
   ]
  },
  {
   "cell_type": "code",
   "execution_count": null,
   "id": "f5d157db",
   "metadata": {},
   "outputs": [],
   "source": [
    "df.columns"
   ]
  },
  {
   "cell_type": "code",
   "execution_count": null,
   "id": "3f9d826a",
   "metadata": {},
   "outputs": [],
   "source": [
    "fig = px.histogram(data_frame=df, x='Country',\n",
    "                   title='Países das Competições',\n",
    "                   color='Place',\n",
    "                   width=1000,\n",
    "                   height=600)\n",
    "fig.update_layout(xaxis_title='País', yaxis_title='Contagem')\n",
    "fig.show()"
   ]
  },
  {
   "cell_type": "code",
   "execution_count": null,
   "id": "9969960d",
   "metadata": {},
   "outputs": [],
   "source": [
    "# Boxplot das idades com Seaborn\n",
    "\n",
    "sns.boxplot(data=df, x='Age', y='Sex')\n",
    "\n",
    "plt.title(\"Distribuição das Idades dos Competidores\")\n",
    "plt.xlabel(\"Idade\")\n",
    "plt.ylabel(\"Sexo\")\n",
    "plt.show()"
   ]
  },
  {
   "cell_type": "code",
   "execution_count": null,
   "id": "b51e7f3f",
   "metadata": {},
   "outputs": [],
   "source": [
    "df.head()"
   ]
  },
  {
   "cell_type": "code",
   "execution_count": null,
   "id": "aa726ca9",
   "metadata": {},
   "outputs": [],
   "source": [
    "# Boxplot das Idades com Plotly\n",
    "\n",
    "fig = px.box(data_frame=df, x='Age', y='Sex', title=\"Boxplot das Idades por Sexo\")\n",
    "\n",
    "# Ajustando ticks do eixo x\n",
    "fig.update_xaxes(\n",
    "    tickmode='linear',\n",
    "    tick0=0,\n",
    "    dtick=10\n",
    ")\n",
    "fig.show()\n"
   ]
  }
 ],
 "metadata": {
  "kernelspec": {
   "display_name": "base",
   "language": "python",
   "name": "python3"
  },
  "language_info": {
   "codemirror_mode": {
    "name": "ipython",
    "version": 3
   },
   "file_extension": ".py",
   "mimetype": "text/x-python",
   "name": "python",
   "nbconvert_exporter": "python",
   "pygments_lexer": "ipython3",
   "version": "3.13.5"
  }
 },
 "nbformat": 4,
 "nbformat_minor": 5
}
